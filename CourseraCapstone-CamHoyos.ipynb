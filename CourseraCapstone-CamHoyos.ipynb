{
 "cells": [
  {
   "cell_type": "markdown",
   "id": "academic-current",
   "metadata": {},
   "source": [
    "# Coursera Capstone #"
   ]
  },
  {
   "cell_type": "markdown",
   "id": "scientific-surgery",
   "metadata": {},
   "source": [
    "### This notebook serves as the coursera capstone project.  ###"
   ]
  },
  {
   "cell_type": "code",
   "execution_count": 4,
   "id": "numerous-benjamin",
   "metadata": {},
   "outputs": [
    {
     "name": "stdout",
     "output_type": "stream",
     "text": [
      "Hello Capstone Project Course!\n"
     ]
    }
   ],
   "source": [
    "import pandas as pd\n",
    "import numpy as np\n",
    "\n",
    "print(\"Hello Capstone Project Course!\")"
   ]
  },
  {
   "cell_type": "code",
   "execution_count": null,
   "id": "universal-patient",
   "metadata": {},
   "outputs": [],
   "source": []
  }
 ],
 "metadata": {
  "kernelspec": {
   "display_name": "Python 3",
   "language": "python",
   "name": "python3"
  },
  "language_info": {
   "codemirror_mode": {
    "name": "ipython",
    "version": 3
   },
   "file_extension": ".py",
   "mimetype": "text/x-python",
   "name": "python",
   "nbconvert_exporter": "python",
   "pygments_lexer": "ipython3",
   "version": "3.9.1"
  }
 },
 "nbformat": 4,
 "nbformat_minor": 5
}
